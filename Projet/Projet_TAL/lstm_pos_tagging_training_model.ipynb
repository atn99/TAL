{
 "cells": [
  {
   "cell_type": "code",
   "execution_count": 31,
   "metadata": {},
   "outputs": [
    {
     "name": "stdout",
     "output_type": "stream",
     "text": [
      "The autoreload extension is already loaded. To reload it, use:\n",
      "  %reload_ext autoreload\n"
     ]
    }
   ],
   "source": [
    "# Author: Robert Guthrie\n",
    "\n",
    "# Les % permettent le reload de modules et participe à l'affichage dans le notebook\n",
    "%matplotlib inline\n",
    "%load_ext autoreload\n",
    "%autoreload 2\n",
    "\n",
    "# Import des librairies\n",
    "import torch\n",
    "import torch.nn as nn\n",
    "import torch.nn.functional as F\n",
    "import torch.optim as optim\n",
    "import matplotlib.pyplot as plt\n",
    "import numpy as np\n",
    "import time"
   ]
  },
  {
   "cell_type": "code",
   "execution_count": 95,
   "metadata": {},
   "outputs": [],
   "source": [
    "'''\n",
    "Préparation des mots pour l'entrainement\n",
    ":param seq: mot à convertir en index\n",
    ":param to_ix: dico avec les index\n",
    ":return: tensor contenant l'index du mot\n",
    "'''\n",
    "def prepare_sequence(seq, to_ix):\n",
    "    idxs = [to_ix[seq]]\n",
    "    return torch.tensor(idxs, dtype=torch.long)\n",
    "\n",
    "'''\n",
    "Affiche deux graphiques\n",
    ":param losses_eval: tableau de loss du set d'evaluation/validation du model\n",
    ":param losses_train: tableau de loss du set d'entrainement du model\n",
    "'''\n",
    "def affiche(losses_eval, losses_train):\n",
    "    plt.plot(np.arange(0,len(losses_eval)),losses_eval)\n",
    "    plt.title('Evolution loss evaluation set')\n",
    "    plt.xlabel(\"Epochs\")\n",
    "    plt.ylabel(\"Loss\")\n",
    "    plt.show()\n",
    "\n",
    "    plt.plot(np.arange(0,len(losses_train)),losses_train)\n",
    "    plt.title('Evolution loss train set')\n",
    "    plt.xlabel(\"Epochs\")\n",
    "    plt.ylabel(\"Loss\")\n",
    "    plt.show()\n",
    "\n",
    "'''\n",
    "Calcule le temps d'une epoch\n",
    ":param start_time: debut du chrono\n",
    ":param end_time: fin du chrono\n",
    "'''\n",
    "def epoch_time(start_time, end_time):\n",
    "    elapsed_time = end_time - start_time\n",
    "    elapsed_mins = int(elapsed_time / 60)\n",
    "    elapsed_secs = int(elapsed_time - (elapsed_mins * 60))\n",
    "    return elapsed_mins, elapsed_secs\n",
    "\n",
    "'''\n",
    "Calcule la precision par epoch, n.b. si il y a 8/10, on retourne 0.8, non pas 8\n",
    ":param preds: la prediction du model\n",
    ":param y: la bonne reponse\n",
    "'''\n",
    "def categorical_accuracy(preds, y):\n",
    "    max_preds = preds.argmax(dim = 1, keepdim = True) # index de la valeur max\n",
    "    return max_preds.eq(y)"
   ]
  },
  {
   "cell_type": "code",
   "execution_count": 94,
   "metadata": {},
   "outputs": [
    {
     "name": "stdout",
     "output_type": "stream",
     "text": [
      "Taille des dico : [words : 2998, tags : 21]\n"
     ]
    }
   ],
   "source": [
    "##### Preparation des donnees #####\n",
    "\n",
    "data_file = open('pos_reference.txt.lima', 'r')\n",
    "data = []\n",
    "word_to_ix = {} \n",
    "tag_to_ix = {}\n",
    "\n",
    "for line in data_file : \n",
    "    # Pour ne pas prendre les lignes vides\n",
    "    if not line.isspace():\n",
    "\n",
    "        # On retire les retours chariots à la fin des lignes + separation du mot et de sa forme morpho-syntaxique dans un tuple\n",
    "        wordAndToken = line.rstrip('\\n').split('\\t')\n",
    "\n",
    "        # Si le mot n'est pas dans le dico on l'ajoute avec son index qui est la taille actuelle du dico\n",
    "        if wordAndToken[0] not in word_to_ix:\n",
    "            word_to_ix[wordAndToken[0]] = len(word_to_ix)\n",
    "\n",
    "        # Pareil pour les tokens\n",
    "        if wordAndToken[1] not in tag_to_ix:\n",
    "            tag_to_ix[wordAndToken[1]] = len(tag_to_ix)\n",
    "\n",
    "        data.append(wordAndToken)\n",
    "\n",
    "print(\"Taille des dico : [words : \" + str(len(word_to_ix)) + \", tags : \" + str(len(tag_to_ix)) + \"]\")\n"
   ]
  },
  {
   "cell_type": "code",
   "execution_count": 81,
   "metadata": {},
   "outputs": [
    {
     "name": "stdout",
     "output_type": "stream",
     "text": [
      "Train Set shape : (8059, 2)\n",
      "Test Set shape : (1006, 2)\n",
      "Eval Set shape : (1007, 2)\n"
     ]
    }
   ],
   "source": [
    "##### Separation des donnees pour l'entrainement, l'evaluation et le test ######\n",
    "nb_line = len(data)\n",
    "line_80 = round((nb_line*80)/100)\n",
    "line_10 = round((nb_line*10)/100)  \n",
    "\n",
    "trainSet = data[:line_80]\n",
    "testSet = data[line_80+1:line_80+line_10]\n",
    "evalSet = data[line_80+line_10+1:]\n",
    "\n",
    "trainShape = np.shape(trainSet)\n",
    "testShape = np.shape(testSet)\n",
    "evalShape = np.shape(evalSet)\n",
    "\n",
    "print(\"Train Set shape : \" + str(trainShape))\n",
    "print(\"Test Set shape : \" + str(testShape))\n",
    "print(\"Eval Set shape : \" + str(evalShape))"
   ]
  },
  {
   "cell_type": "code",
   "execution_count": 82,
   "metadata": {},
   "outputs": [
    {
     "name": "stdout",
     "output_type": "stream",
     "text": [
      "2998\n",
      "2064\n"
     ]
    }
   ],
   "source": [
    "#Chargement des donnees de GloVe\n",
    "emmbed_dict = {}\n",
    "embedding_dim = 50\n",
    "path = '../../../glove.6B.50d.txt' #mettre le path des mots de Glove\n",
    "with open(path,'r', encoding = \"UTF-8\") as f:\n",
    "  for line in f:\n",
    "    values = line.split()\n",
    "    word = values[0]\n",
    "    vector = np.asarray(values[1:],'float32')\n",
    "    emmbed_dict[word]=vector\n",
    "\n",
    "#Création et remplissage de la matrice des poids\n",
    "'''\n",
    "Pour chaque mot du vocabulaire de l’ensemble de données, nous vérifions s’il est sur le vocabulaire de GloVe. \n",
    "S’il le fait, nous chargeons son vecteur de mots pré-entraîné. \n",
    "Sinon, nous initialisons un vecteur aléatoire.\n",
    "'''\n",
    "\n",
    "matrix_len = len(word_to_ix)\n",
    "print(matrix_len)\n",
    "weights_matrix = np.zeros((matrix_len, 50))\n",
    "words_found = 0\n",
    "\n",
    "for i, word in enumerate(word_to_ix):\n",
    "    try: \n",
    "        weights_matrix[i] = emmbed_dict[word]\n",
    "        words_found += 1\n",
    "    except KeyError:\n",
    "        weights_matrix[i] = np.random.normal(scale=0.6, size=(embedding_dim, ))\n",
    "\n",
    "#Conversion en tensor pour l'embedding\n",
    "weight = torch.FloatTensor(weights_matrix)\n",
    "\n",
    "print(words_found)\n",
    "      "
   ]
  },
  {
   "cell_type": "code",
   "execution_count": 83,
   "metadata": {},
   "outputs": [],
   "source": [
    "##### Creation du model avec embbeding (mots non pre-entrainne) #####\n",
    "class LSTMTagger(nn.Module):\n",
    "\n",
    "    def __init__(self, embedding_dim, hidden_dim, vocab_size, tagset_size):\n",
    "        super(LSTMTagger, self).__init__()\n",
    "        self.hidden_dim = hidden_dim\n",
    "\n",
    "        self.word_embeddings = nn.Embedding(vocab_size, embedding_dim)\n",
    "        \n",
    "        self.lstm = nn.LSTM(embedding_dim, hidden_dim)\n",
    "    \n",
    "        self.hidden2tag = nn.Linear(hidden_dim, tagset_size)\n",
    "\n",
    "    def forward(self, sentence):\n",
    "        embeds = self.word_embeddings(sentence)\n",
    "        lstm_out, _ = self.lstm(embeds.view(len(sentence), 1, -1))\n",
    "        tag_space = self.hidden2tag(lstm_out.view(len(sentence), -1))\n",
    "        tag_scores = F.log_softmax(tag_space, dim=1)\n",
    "        return tag_scores\n",
    "\n",
    "\n",
    "##### Creation du model avec embbeding (mots pre-entrainne avec Glove) #####\n",
    "class LSTMTaggerGLove(nn.Module):\n",
    "\n",
    "    def __init__(self, embedding_dim, hidden_dim, vocab_size, tagset_size, weight):\n",
    "        super(LSTMTaggerGLove, self).__init__()\n",
    "        self.hidden_dim = hidden_dim\n",
    "\n",
    "        self.word_embeddings = nn.Embedding(vocab_size, embedding_dim)\n",
    "        self.word_embeddings.load_state_dict({'weight': weight}) #de taille vocab_size, donc marche pas\n",
    "\n",
    "        # The LSTM takes word embeddings as inputs, and outputs hidden states\n",
    "        # with dimensionality hidden_dim.\n",
    "        self.lstm = nn.LSTM(embedding_dim, hidden_dim)\n",
    "\n",
    "        # The linear layer that maps from hidden state space to tag space\n",
    "        self.hidden2tag = nn.Linear(hidden_dim, tagset_size)\n",
    "\n",
    "    def forward(self, sentence):\n",
    "        embeds = self.word_embeddings(sentence)\n",
    "        lstm_out, _ = self.lstm(embeds.view(len(sentence), 1, -1))\n",
    "        tag_space = self.hidden2tag(lstm_out.view(len(sentence), -1))\n",
    "        tag_scores = F.log_softmax(tag_space, dim=1)\n",
    "        return tag_scores"
   ]
  },
  {
   "cell_type": "code",
   "execution_count": 114,
   "metadata": {},
   "outputs": [],
   "source": [
    "'''\n",
    "Fonction d'entrainement pour un model passé en paramètre\n",
    ":param model: model a entrainer\n",
    ":param nb_epoch: nombre d'epoque de l'entrainement\n",
    ":return losses_train & losses_eval: tableaux d'erreurs\n",
    "'''\n",
    "def train(model, optimizer, loss_function):\n",
    "    epoch_loss = 0.0\n",
    "    epoch_acc = 0\n",
    "\n",
    "    model.train()\n",
    "    for word, tag in trainSet:\n",
    "\n",
    "        optimizer.zero_grad()\n",
    "        \n",
    "        wordIdx = prepare_sequence(word, word_to_ix)\n",
    "        target = prepare_sequence(tag, tag_to_ix)\n",
    "        \n",
    "        tag_scores = model(wordIdx)\n",
    "\n",
    "        loss = loss_function(tag_scores, target)\n",
    "        epoch_loss += loss.item()\n",
    "\n",
    "        acc = categorical_accuracy(tag_scores, target)\n",
    "        epoch_acc += acc.item()\n",
    "\n",
    "        loss.backward()\n",
    "\n",
    "        optimizer.step()\n",
    "    \n",
    "    \n",
    "    #optimizer.zero_grad()\n",
    "\n",
    "    return epoch_loss/len(trainSet), epoch_acc/len(trainSet)\n",
    "\n"
   ]
  },
  {
   "cell_type": "code",
   "execution_count": 115,
   "metadata": {},
   "outputs": [],
   "source": [
    "#On passe le model en phase d'evaluation\n",
    "def evaluate(model, loss_function, setIterator):\n",
    "    epoch_loss = 0.0\n",
    "    epoch_acc = 0\n",
    "\n",
    "    model.eval() \n",
    "    with torch.no_grad():\n",
    "        for word, tag in setIterator:\n",
    "\n",
    "            wordIdx = prepare_sequence(word, word_to_ix)\n",
    "            target = prepare_sequence(tag, tag_to_ix)\n",
    "\n",
    "            tag_scores = model(wordIdx)\n",
    "            \n",
    "            loss_eval = loss_function(tag_scores, target)\n",
    "            epoch_loss += loss_eval.item()  \n",
    "            acc = categorical_accuracy(tag_scores, target)\n",
    "            epoch_acc += acc.item()\n",
    "            \n",
    "    \n",
    "    return epoch_loss/len(setIterator), epoch_acc/len(setIterator)\n",
    "        \n",
    "            "
   ]
  },
  {
   "cell_type": "code",
   "execution_count": 113,
   "metadata": {},
   "outputs": [
    {
     "name": "stdout",
     "output_type": "stream",
     "text": [
      "Epoch: 01 | Epoch Time: 0m 8s\n",
      "\tTrain Loss: 1.105 | Train Acc: 65.49%\n",
      "\t Val. Loss: 1.114 |  Val. Acc: 64.45%\n",
      "Epoch: 02 | Epoch Time: 0m 8s\n",
      "\tTrain Loss: 0.656 | Train Acc: 77.71%\n",
      "\t Val. Loss: 1.096 |  Val. Acc: 67.23%\n",
      "Epoch: 03 | Epoch Time: 0m 8s\n",
      "\tTrain Loss: 0.429 | Train Acc: 85.80%\n",
      "\t Val. Loss: 1.204 |  Val. Acc: 67.73%\n",
      "Epoch: 04 | Epoch Time: 0m 9s\n",
      "\tTrain Loss: 0.256 | Train Acc: 91.74%\n",
      "\t Val. Loss: 1.374 |  Val. Acc: 69.22%\n",
      "Epoch: 05 | Epoch Time: 0m 9s\n",
      "\tTrain Loss: 0.149 | Train Acc: 95.67%\n",
      "\t Val. Loss: 1.505 |  Val. Acc: 69.22%\n",
      "Epoch: 06 | Epoch Time: 0m 9s\n",
      "\tTrain Loss: 0.109 | Train Acc: 96.66%\n",
      "\t Val. Loss: 1.459 |  Val. Acc: 70.80%\n",
      "Epoch: 07 | Epoch Time: 0m 9s\n",
      "\tTrain Loss: 0.090 | Train Acc: 96.75%\n",
      "\t Val. Loss: 1.466 |  Val. Acc: 71.40%\n",
      "Epoch: 08 | Epoch Time: 0m 9s\n",
      "\tTrain Loss: 0.082 | Train Acc: 96.76%\n",
      "\t Val. Loss: 1.474 |  Val. Acc: 71.60%\n",
      "Epoch: 09 | Epoch Time: 0m 11s\n",
      "\tTrain Loss: 0.077 | Train Acc: 96.76%\n",
      "\t Val. Loss: 1.485 |  Val. Acc: 71.90%\n",
      "Epoch: 10 | Epoch Time: 0m 12s\n",
      "\tTrain Loss: 0.075 | Train Acc: 96.81%\n",
      "\t Val. Loss: 1.498 |  Val. Acc: 72.00%\n",
      "best_valid_loss = 1.0963367742668724\n"
     ]
    },
    {
     "data": {
      "image/png": "[encoded data removed]",
      "text/plain": [
       "<Figure size 432x288 with 1 Axes>"
      ]
     },
     "metadata": {
      "needs_background": "light"
     },
     "output_type": "display_data"
    },
    {
     "data": {
      "image/png": "[encoded data removed]",
      "text/plain": [
       "<Figure size 432x288 with 1 Axes>"
      ]
     },
     "metadata": {
      "needs_background": "light"
     },
     "output_type": "display_data"
    }
   ],
   "source": [
    "EMBEDDING_DIM = 50\n",
    "HIDDEN_DIM = 128\n",
    "\n",
    "################# Train the model #################\n",
    "model1 = LSTMTagger(EMBEDDING_DIM, HIDDEN_DIM, len(word_to_ix), len(tag_to_ix))\n",
    "\n",
    "nb_epoch = 10\n",
    "loss_function = nn.NLLLoss()\n",
    "optimizer = optim.SGD(model1.parameters(), lr=0.1)\n",
    "\n",
    "best_valid_loss = float('inf')\n",
    "train_loss_array = []\n",
    "valid_loss_array = []\n",
    "\n",
    "for epoch in range(nb_epoch):\n",
    "    start_time = time.time()\n",
    "\n",
    "    train_loss, train_acc = train(model1, optimizer, loss_function)\n",
    "    valid_loss, valid_acc = evaluate(model1, loss_function, evalSet)\n",
    "\n",
    "    end_time = time.time()\n",
    "    \n",
    "    train_loss_array.append(train_loss)\n",
    "    valid_loss_array.append(valid_loss)\n",
    "\n",
    "    if valid_loss < best_valid_loss:\n",
    "        best_valid_loss = valid_loss\n",
    "        torch.save(model1.state_dict(), 'model1.pt')\n",
    "\n",
    "    epoch_mins, epoch_secs = epoch_time(start_time, end_time)\n",
    "    print(f'Epoch: {epoch+1:02} | Epoch Time: {epoch_mins}m {epoch_secs}s')\n",
    "    print(f'\\tTrain Loss: {train_loss:.3f} | Train Acc: {train_acc*100:.2f}%')\n",
    "    print(f'\\t Val. Loss: {valid_loss:.3f} |  Val. Acc: {valid_acc*100:.2f}%')\n",
    "\n",
    "print('best_valid_loss = ' + str(best_valid_loss))\n",
    "affiche(valid_loss_array, train_loss_array)"
   ]
  },
  {
   "cell_type": "code",
   "execution_count": 88,
   "metadata": {},
   "outputs": [
    {
     "name": "stdout",
     "output_type": "stream",
     "text": [
      "Test Loss: 0.927 |  Test Acc: 70.48%\n"
     ]
    }
   ],
   "source": [
    "model1.load_state_dict(torch.load('model1.pt'))\n",
    "\n",
    "test_loss, test_acc = evaluate(model1, loss_function, testSet)\n",
    "\n",
    "print(f'Test Loss: {test_loss:.3f} |  Test Acc: {test_acc*100:.2f}%')"
   ]
  },
  {
   "cell_type": "code",
   "execution_count": 119,
   "metadata": {},
   "outputs": [
    {
     "name": "stdout",
     "output_type": "stream",
     "text": [
      "Epoch: 01 | Epoch Time: 0m 8s\n",
      "\tTrain Loss: 0.919 | Train Acc: 70.86%\n",
      "\t Val. Loss: 0.868 |  Val. Acc: 68.32%\n",
      "Epoch: 02 | Epoch Time: 0m 8s\n",
      "\tTrain Loss: 0.433 | Train Acc: 85.74%\n",
      "\t Val. Loss: 0.752 |  Val. Acc: 74.08%\n",
      "Epoch: 03 | Epoch Time: 0m 8s\n",
      "\tTrain Loss: 0.266 | Train Acc: 91.70%\n",
      "\t Val. Loss: 0.733 |  Val. Acc: 75.37%\n",
      "Epoch: 04 | Epoch Time: 0m 8s\n",
      "\tTrain Loss: 0.167 | Train Acc: 94.95%\n",
      "\t Val. Loss: 0.808 |  Val. Acc: 76.76%\n",
      "Epoch: 05 | Epoch Time: 0m 8s\n",
      "\tTrain Loss: 0.116 | Train Acc: 96.38%\n",
      "\t Val. Loss: 0.850 |  Val. Acc: 76.46%\n",
      "Epoch: 06 | Epoch Time: 0m 8s\n",
      "\tTrain Loss: 0.099 | Train Acc: 96.79%\n",
      "\t Val. Loss: 0.875 |  Val. Acc: 77.46%\n",
      "Epoch: 07 | Epoch Time: 0m 8s\n",
      "\tTrain Loss: 0.085 | Train Acc: 97.00%\n",
      "\t Val. Loss: 0.914 |  Val. Acc: 77.16%\n",
      "Epoch: 08 | Epoch Time: 0m 8s\n",
      "\tTrain Loss: 0.078 | Train Acc: 97.01%\n",
      "\t Val. Loss: 0.928 |  Val. Acc: 78.05%\n",
      "Epoch: 09 | Epoch Time: 0m 8s\n",
      "\tTrain Loss: 0.072 | Train Acc: 97.01%\n",
      "\t Val. Loss: 0.941 |  Val. Acc: 77.86%\n",
      "Epoch: 10 | Epoch Time: 0m 8s\n",
      "\tTrain Loss: 0.070 | Train Acc: 97.07%\n",
      "\t Val. Loss: 0.944 |  Val. Acc: 78.15%\n",
      "best_valid_loss = 0.7329987732111084\n"
     ]
    },
    {
     "data": {
      "image/png": "[encoded data removed]",
      "text/plain": [
       "<Figure size 432x288 with 1 Axes>"
      ]
     },
     "metadata": {
      "needs_background": "light"
     },
     "output_type": "display_data"
    },
    {
     "data": {
      "image/png": "[encoded data removed]",
      "text/plain": [
       "<Figure size 432x288 with 1 Axes>"
      ]
     },
     "metadata": {
      "needs_background": "light"
     },
     "output_type": "display_data"
    }
   ],
   "source": [
    "# Model 2\n",
    "EMBEDDING_DIM = 50\n",
    "HIDDEN_DIM = 128\n",
    "\n",
    "model2 = LSTMTaggerGLove(EMBEDDING_DIM, HIDDEN_DIM, len(word_to_ix), len(tag_to_ix), weight)\n",
    "\n",
    "nb_epoch = 10\n",
    "loss_function = nn.NLLLoss()\n",
    "optimizer = optim.SGD(model2.parameters(), lr=0.1)\n",
    "\n",
    "best_valid_loss = float('inf')\n",
    "train_loss_array = []\n",
    "valid_loss_array = []\n",
    "\n",
    "for epoch in range(nb_epoch):\n",
    "    start_time = time.time()\n",
    "\n",
    "    train_loss, train_acc = train(model2, optimizer, loss_function)\n",
    "    valid_loss, valid_acc = evaluate(model2, loss_function, evalSet)\n",
    "\n",
    "    end_time = time.time()\n",
    "    \n",
    "    train_loss_array.append(train_loss)\n",
    "    valid_loss_array.append(valid_loss)\n",
    "\n",
    "    if valid_loss < best_valid_loss:\n",
    "        best_valid_loss = valid_loss\n",
    "        torch.save(model2.state_dict(), 'model2.pt')\n",
    "\n",
    "    epoch_mins, epoch_secs = epoch_time(start_time, end_time)\n",
    "    print(f'Epoch: {epoch+1:02} | Epoch Time: {epoch_mins}m {epoch_secs}s')\n",
    "    print(f'\\tTrain Loss: {train_loss:.3f} | Train Acc: {train_acc*100:.2f}%')\n",
    "    print(f'\\t Val. Loss: {valid_loss:.3f} |  Val. Acc: {valid_acc*100:.2f}%')\n",
    "\n",
    "print('best_valid_loss = ' + str(best_valid_loss))\n",
    "affiche(valid_loss_array, train_loss_array)\n"
   ]
  },
  {
   "cell_type": "code",
   "execution_count": 120,
   "metadata": {},
   "outputs": [
    {
     "name": "stdout",
     "output_type": "stream",
     "text": [
      "Test Loss: 0.677 |  Test Acc: 81.91%\n"
     ]
    }
   ],
   "source": [
    "model2.load_state_dict(torch.load('model2.pt'))\n",
    "\n",
    "test_loss, test_acc = evaluate(model2, loss_function, testSet)\n",
    "\n",
    "print(f'Test Loss: {test_loss:.3f} |  Test Acc: {test_acc*100:.2f}%')"
   ]
  },
  {
   "cell_type": "code",
   "execution_count": null,
   "metadata": {},
   "outputs": [],
   "source": []
  }
 ],
 "metadata": {
  "interpreter": {
   "hash": "07efdcd4b820c98a756949507a4d29d7862823915ec7477944641bea022f4f62"
  },
  "kernelspec": {
   "display_name": "Python 3.9.7 ('base')",
   "language": "python",
   "name": "python3"
  },
  "language_info": {
   "codemirror_mode": {
    "name": "ipython",
    "version": 3
   },
   "file_extension": ".py",
   "mimetype": "text/x-python",
   "name": "python",
   "nbconvert_exporter": "python",
   "pygments_lexer": "ipython3",
   "version": "3.7.11"
  },
  "orig_nbformat": 4
 },
 "nbformat": 4,
 "nbformat_minor": 2
}
