{
 "cells": [
  {
   "cell_type": "code",
   "execution_count": 2,
   "metadata": {},
   "outputs": [],
   "source": [
    "# Author: Robert Guthrie\n",
    "\n",
    "# Les % permettent le reload de modules et participe à l'affichage dans le notebook\n",
    "%matplotlib inline\n",
    "%load_ext autoreload\n",
    "%autoreload 2\n",
    "\n",
    "# Import des librairies\n",
    "import torch\n",
    "import torch.nn as nn\n",
    "import torch.nn.functional as F\n",
    "import torch.optim as optim\n",
    "import matplotlib.pyplot as plt\n",
    "import numpy as np"
   ]
  },
  {
   "cell_type": "code",
   "execution_count": 3,
   "metadata": {},
   "outputs": [],
   "source": [
    "'''\n",
    "Préparation des mots pour l'entrainement\n",
    ":param seq: mot à convertir en index\n",
    ":param to_ix: dico avec les index\n",
    ":return: tensor contenant l'index du mot\n",
    "'''\n",
    "def prepare_sequence(seq, to_ix):\n",
    "    idxs = [to_ix[seq]]\n",
    "    return torch.tensor(idxs, dtype=torch.long)\n",
    "\n",
    "'''\n",
    "Affiche deux graphiques\n",
    ":param losses_eval: tableau de loss du set d'evaluation/validation du model\n",
    ":param losses_train: tableau de loss du set d'entrainement du model\n",
    "'''\n",
    "def affiche(losses_eval, losses_train):\n",
    "    plt.plot(np.arange(0,len(losses_eval)),losses_eval)\n",
    "    plt.title('Evolution loss evaluation set')\n",
    "    plt.xlabel(\"Epochs\")\n",
    "    plt.ylabel(\"Loss\")\n",
    "    plt.show()\n",
    "\n",
    "    plt.plot(np.arange(0,len(losses_train)),losses_train)\n",
    "    plt.title('Evolution loss train set')\n",
    "    plt.xlabel(\"Epochs\")\n",
    "    plt.ylabel(\"Loss\")\n",
    "    plt.show()"
   ]
  },
  {
   "cell_type": "code",
   "execution_count": 4,
   "metadata": {},
   "outputs": [
    {
     "name": "stdout",
     "output_type": "stream",
     "text": [
      "Taille des dico : [words : 2998, tags : 21]\n"
     ]
    }
   ],
   "source": [
    "##### Preparation des donnees #####\n",
    "\n",
    "data_file = open('pos_reference.txt.lima', 'r')\n",
    "data = []\n",
    "word_to_ix = {} \n",
    "tag_to_ix = {}\n",
    "\n",
    "for line in data_file : \n",
    "    # Pour ne pas prendre les lignes vides\n",
    "    if not line.isspace():\n",
    "\n",
    "        # On retire les retours chariots à la fin des lignes + separation du mot et de sa forme morpho-syntaxique dans un tuple\n",
    "        wordAndToken = line.rstrip('\\n').split('\\t')\n",
    "\n",
    "        # Si le mot n'est pas dans le dico on l'ajoute avec son index qui est la taille actuelle du dico\n",
    "        if wordAndToken[0] not in word_to_ix:\n",
    "            word_to_ix[wordAndToken[0]] = len(word_to_ix)\n",
    "\n",
    "        # Pareil pour les tokens\n",
    "        if wordAndToken[1] not in tag_to_ix:\n",
    "            tag_to_ix[wordAndToken[1]] = len(tag_to_ix)\n",
    "\n",
    "        data.append(wordAndToken)\n",
    "\n",
    "print(\"Taille des dico : [words : \" + str(len(word_to_ix)) + \", tags : \" + str(len(tag_to_ix)) + \"]\")"
   ]
  },
  {
   "cell_type": "code",
   "execution_count": 5,
   "metadata": {},
   "outputs": [
    {
     "name": "stdout",
     "output_type": "stream",
     "text": [
      "Train Set shape : (8059, 2)\n",
      "Test Set shape : (1006, 2)\n",
      "Eval Set shape : (1007, 2)\n"
     ]
    }
   ],
   "source": [
    "##### Separation des donnees pour l'entrainement, l'evaluation et le test ######\n",
    "nb_line = len(data)\n",
    "line_80 = round((nb_line*80)/100)\n",
    "line_10 = round((nb_line*10)/100)  \n",
    "\n",
    "trainSet = data[:line_80]\n",
    "testSet = data[line_80+1:line_80+line_10]\n",
    "evalSet = data[line_80+line_10+1:]\n",
    "\n",
    "trainShape = np.shape(trainSet)\n",
    "testShape = np.shape(testSet)\n",
    "evalShape = np.shape(evalSet)\n",
    "\n",
    "print(\"Train Set shape : \" + str(trainShape))\n",
    "print(\"Test Set shape : \" + str(testShape))\n",
    "print(\"Eval Set shape : \" + str(evalShape))"
   ]
  },
  {
   "cell_type": "code",
   "execution_count": 22,
   "metadata": {},
   "outputs": [],
   "source": [
    "'''\n",
    "Fonction d'entrainement pour un model passé en paramètre\n",
    ":param model: model a entrainer\n",
    ":param nb_epoch: nombre d'epoque de l'entrainement\n",
    ":return losses_train & losses_eval: tableaux d'erreurs\n",
    "'''\n",
    "def train(model, nb_epoch):\n",
    "\n",
    "    losses_eval = []\n",
    "    losses_train = []\n",
    "    current_loss = 0\n",
    "    loss_function = nn.NLLLoss()\n",
    "    optimizer = optim.SGD(model.parameters(), lr=0.1)\n",
    "\n",
    "    for epoch in range(nb_epoch):  # again, normally you would NOT do 300 epochs, it is toy data\n",
    "        print(\"Epoch : \" + str(epoch) +'/'+ str(nb_epoch) + '\\n')\n",
    "        \n",
    "        #On passe le model en phase d'entrainement\n",
    "        model.train()\n",
    "    \n",
    "        for word, tag in trainSet:\n",
    "\n",
    "            optimizer.zero_grad()\n",
    "            \n",
    "            word_in_train = prepare_sequence(word, word_to_ix)\n",
    "            target_train = prepare_sequence(tag, tag_to_ix)\n",
    "           \n",
    "            tag_scores_train = model(word_in_train)\n",
    "\n",
    "            loss_train = loss_function(tag_scores_train, target_train)\n",
    "            current_loss += loss_train.item()\n",
    "\n",
    "            loss_train.backward()\n",
    "\n",
    "            optimizer.step()\n",
    "        \n",
    "        mean_train_loss = current_loss/len(evalSet)\n",
    "        losses_train.append(mean_train_loss)\n",
    "        print('Train Loss after epoch '+ str(epoch) + ': ' + str(mean_train_loss) )\n",
    "        current_loss = 0.0\n",
    "        \n",
    "        optimizer.zero_grad()\n",
    "\n",
    "        #On passe le model en phase d'evaluation\n",
    "        model.eval() \n",
    "        current_loss = 0.0\n",
    "        i = 0\n",
    "\n",
    "        with torch.no_grad():\n",
    "            for word, tag in evalSet:\n",
    "\n",
    "                word_in_eval = prepare_sequence(word, word_to_ix)\n",
    "                target_eval = prepare_sequence(tag, tag_to_ix)\n",
    "\n",
    "                tag_scores_eval = model(word_in_eval)\n",
    "                \n",
    "                loss_eval = loss_function(tag_scores_eval, target_eval)\n",
    "                current_loss += loss_eval.item()  \n",
    "                \n",
    "            mean_eval_loss = current_loss/len(evalSet)\n",
    "            losses_eval.append(mean_eval_loss)\n",
    "            print('Evaluation Loss after this epoch '+ str(epoch) + ': ' + str(mean_eval_loss) )\n",
    "            current_loss = 0.0\n",
    "\n",
    "    return losses_train, losses_eval\n",
    "\n"
   ]
  },
  {
   "cell_type": "code",
   "execution_count": 23,
   "metadata": {},
   "outputs": [],
   "source": [
    "##### Creation du model avec embbeding (mots non pre-entrainne) #####\n",
    "class LSTMTagger(nn.Module):\n",
    "\n",
    "    def __init__(self, embedding_dim, hidden_dim, vocab_size, tagset_size):\n",
    "        super(LSTMTagger, self).__init__()\n",
    "        self.hidden_dim = hidden_dim\n",
    "\n",
    "        self.word_embeddings = nn.Embedding(vocab_size, embedding_dim)\n",
    "        \n",
    "        self.lstm = nn.LSTM(embedding_dim, hidden_dim)\n",
    "    \n",
    "        self.hidden2tag = nn.Linear(hidden_dim, tagset_size)\n",
    "\n",
    "    def forward(self, sentence):\n",
    "        embeds = self.word_embeddings(sentence)\n",
    "        lstm_out, _ = self.lstm(embeds.view(len(sentence), 1, -1))\n",
    "        tag_space = self.hidden2tag(lstm_out.view(len(sentence), -1))\n",
    "        tag_scores = F.log_softmax(tag_space, dim=1)\n",
    "        return tag_scores"
   ]
  },
  {
   "cell_type": "code",
   "execution_count": 8,
   "metadata": {},
   "outputs": [],
   "source": [
    "# These will usually be more like 32 or 64 dimensional.\n",
    "# We will keep them small, so we can see how the weights change as we train.\n",
    "EMBEDDING_DIM = 6\n",
    "HIDDEN_DIM = 6\n",
    "\n",
    "################# Train the model #################\n",
    "model1 = LSTMTagger(EMBEDDING_DIM, HIDDEN_DIM, len(word_to_ix), len(tag_to_ix))\n"
   ]
  },
  {
   "cell_type": "code",
   "execution_count": 9,
   "metadata": {},
   "outputs": [
    {
     "name": "stdout",
     "output_type": "stream",
     "text": [
      "tensor([0])\n",
      "\n",
      "=> Scores before training of the tags affected to each word\n",
      "tensor([[-3.1805, -3.2210, -2.7841, -2.5930, -2.9945, -3.4355, -2.9467, -3.1316,\n",
      "         -2.9867, -3.2735, -3.2981, -2.9846, -3.2573, -3.1078, -3.4080, -2.7191,\n",
      "         -2.9285, -3.0331, -2.7619, -3.1494, -3.2764]])\n"
     ]
    }
   ],
   "source": [
    "# See what the scores are before training\n",
    "# Note that element i,j of the output is the score for tag j for word i.\n",
    "# Here we don't need to train, so the code is wrapped in torch.no_grad()\n",
    "with torch.no_grad():\n",
    "    inputs = prepare_sequence(trainSet[0][0], word_to_ix)\n",
    "    print(inputs)\n",
    "    tag_scores = model1(inputs)\n",
    "    print()\n",
    "    print(\"=> Scores before training of the tags affected to each word\")\n",
    "    print(tag_scores)"
   ]
  },
  {
   "cell_type": "code",
   "execution_count": 10,
   "metadata": {},
   "outputs": [
    {
     "name": "stdout",
     "output_type": "stream",
     "text": [
      "Epoch : 0/2\n",
      "\n",
      "Train Loss after this epoch : 13.01841297410632\n",
      "Evaluation Loss after this epoch : 1.6074834223503716\n",
      "Epoch : 1/2\n",
      "\n",
      "Train Loss after this epoch : 10.066778687141047\n",
      "Evaluation Loss after this epoch : 1.4085364826892937\n"
     ]
    }
   ],
   "source": [
    "loss_train, loss_eval = train(model1, 2)"
   ]
  },
  {
   "cell_type": "code",
   "execution_count": 11,
   "metadata": {},
   "outputs": [
    {
     "data": {
      "image/png": "[encoded data removed]",
      "text/plain": [
       "<Figure size 432x288 with 1 Axes>"
      ]
     },
     "metadata": {
      "needs_background": "light"
     },
     "output_type": "display_data"
    },
    {
     "data": {
      "image/png": "[encoded data removed]",
      "text/plain": [
       "<Figure size 432x288 with 1 Axes>"
      ]
     },
     "metadata": {
      "needs_background": "light"
     },
     "output_type": "display_data"
    }
   ],
   "source": [
    "affiche(loss_eval, loss_train)"
   ]
  },
  {
   "cell_type": "code",
   "execution_count": 24,
   "metadata": {},
   "outputs": [
    {
     "name": "stdout",
     "output_type": "stream",
     "text": [
      "\n",
      "=> The sentence to analyze (first sentence of the Training data):\n",
      "['will', 'AUX']\n",
      "\n",
      "=> Training data: each word is assigned to a unique index:\n",
      "\n",
      "=> Scores after training of the tags affected to each word of the sentence to analyze:\n",
      "tensor([[-2.4936, -9.5667, -2.9792, -2.0443, -2.3676, -5.9257, -0.9950, -3.4135,\n",
      "         -5.3702, -5.3768, -2.9823, -9.8843, -3.9294, -8.5204, -2.0801, -3.7683,\n",
      "         -6.5268, -4.9826, -8.0326, -6.9256, -7.6386]])\n"
     ]
    }
   ],
   "source": [
    "# See what the scores are after training\n",
    "with torch.no_grad():\n",
    "    inputs = prepare_sequence(trainSet[4][0], word_to_ix)\n",
    "    print()\n",
    "    print('=> The sentence to analyze (first sentence of the Training data):')\n",
    "    print(trainSet[4])\n",
    "\n",
    "    print()\n",
    "    print(\"=> Training data: each word is assigned to a unique index:\")\n",
    "    tag_scores = model1(inputs)\n",
    "\n",
    "    print()\n",
    "    print(\"=> Scores after training of the tags affected to each word of the sentence to analyze:\")\n",
    "    print(tag_scores)"
   ]
  },
  {
   "cell_type": "code",
   "execution_count": 14,
   "metadata": {},
   "outputs": [],
   "source": [
    "##### Creation du model avec embbeding (mots pre-entrainne avec Glove) #####\n",
    "\n",
    "class LSTMTaggerGLove(nn.Module):\n",
    "\n",
    "    def __init__(self, embedding_dim, hidden_dim, vocab_size, tagset_size, weight):\n",
    "        super(LSTMTaggerGLove, self).__init__()\n",
    "        self.hidden_dim = hidden_dim\n",
    "\n",
    "        self.word_embeddings = nn.Embedding(vocab_size, embedding_dim)\n",
    "        self.word_embeddings.load_state_dict({'weight': weight}) #de taille vocab_size, donc marche pas\n",
    "\n",
    "        # The LSTM takes word embeddings as inputs, and outputs hidden states\n",
    "        # with dimensionality hidden_dim.\n",
    "        self.lstm = nn.LSTM(embedding_dim, hidden_dim)\n",
    "\n",
    "        # The linear layer that maps from hidden state space to tag space\n",
    "        self.hidden2tag = nn.Linear(hidden_dim, tagset_size)\n",
    "\n",
    "    def forward(self, sentence):\n",
    "        embeds = self.word_embeddings(sentence)\n",
    "        lstm_out, _ = self.lstm(embeds.view(len(sentence), 1, -1))\n",
    "        tag_space = self.hidden2tag(lstm_out.view(len(sentence), -1))\n",
    "        tag_scores = F.log_softmax(tag_space, dim=1)\n",
    "        return tag_scores"
   ]
  },
  {
   "cell_type": "code",
   "execution_count": 15,
   "metadata": {},
   "outputs": [],
   "source": [
    "#Chargement des donnees de GloVe\n",
    "emmbed_dict = {}\n",
    "embedding_dim = 50\n",
    "path = '../../../glove.6B.50d.txt' #mettre le path des mots de Glove\n",
    "with open(path,'r', encoding = \"UTF-8\") as f:\n",
    "  for line in f:\n",
    "    values = line.split()\n",
    "    word = values[0]\n",
    "    vector = np.asarray(values[1:],'float32')\n",
    "    emmbed_dict[word]=vector\n",
    "      "
   ]
  },
  {
   "cell_type": "code",
   "execution_count": 16,
   "metadata": {},
   "outputs": [
    {
     "name": "stdout",
     "output_type": "stream",
     "text": [
      "[ 8.1544e-01  3.0171e-01  5.4720e-01  4.6581e-01  2.8531e-01 -5.6112e-01\n",
      " -4.3913e-01 -9.0877e-03  1.0002e-01 -1.7218e-01  2.8133e-01  3.7672e-01\n",
      " -4.0756e-01  1.5836e-01  8.9113e-01  1.2997e+00  5.1508e-01 -1.9480e-01\n",
      "  5.1856e-02 -9.3380e-01  6.9955e-02 -2.4876e-01 -1.6723e-02 -2.0310e-01\n",
      " -3.3558e-02 -1.8132e+00  1.1199e-01 -3.1961e-01 -1.3746e-01 -4.5499e-01\n",
      "  3.8856e+00  1.2140e+00 -1.0046e+00 -5.6274e-02  3.8776e-03 -4.0669e-01\n",
      "  2.9452e-01  3.0171e-01  3.8848e-02 -5.6088e-01 -4.6582e-01  1.7155e-01\n",
      "  3.3729e-01 -1.5247e-01  2.3771e-02  5.1415e-01 -2.1759e-01  3.1965e-01\n",
      " -3.4741e-01  4.1672e-01]\n"
     ]
    }
   ],
   "source": [
    "print(emmbed_dict['will'])"
   ]
  },
  {
   "cell_type": "code",
   "execution_count": 17,
   "metadata": {},
   "outputs": [
    {
     "name": "stdout",
     "output_type": "stream",
     "text": [
      "2998\n",
      "2064\n"
     ]
    }
   ],
   "source": [
    "#Création et remplissage de la matrice des poids\n",
    "'''\n",
    "Pour chaque mot du vocabulaire de l’ensemble de données, nous vérifions s’il est sur le vocabulaire de GloVe. \n",
    "S’il le fait, nous chargeons son vecteur de mots pré-entraîné. \n",
    "Sinon, nous initialisons un vecteur aléatoire.\n",
    "'''\n",
    "\n",
    "matrix_len = len(word_to_ix)\n",
    "print(matrix_len)\n",
    "weights_matrix = np.zeros((matrix_len, 50))\n",
    "words_found = 0\n",
    "\n",
    "for i, word in enumerate(word_to_ix):\n",
    "    try: \n",
    "        weights_matrix[i] = emmbed_dict[word]\n",
    "        words_found += 1\n",
    "    except KeyError:\n",
    "        weights_matrix[i] = np.random.normal(scale=0.6, size=(embedding_dim, ))\n",
    "\n",
    "#Conversion en tensor pour l'embedding\n",
    "weight = torch.FloatTensor(weights_matrix)\n",
    "\n",
    "print(words_found)"
   ]
  },
  {
   "cell_type": "code",
   "execution_count": 18,
   "metadata": {},
   "outputs": [],
   "source": [
    "# These will usually be more like 32 or 64 dimensional.\n",
    "# We will keep them small, so we can see how the weights change as we train.\n",
    "EMBEDDING_DIM = 50\n",
    "HIDDEN_DIM = 6\n",
    "\n",
    "################# Train the model #################\n",
    "model2 = LSTMTaggerGLove(EMBEDDING_DIM, HIDDEN_DIM, len(word_to_ix), len(tag_to_ix), weight)"
   ]
  },
  {
   "cell_type": "code",
   "execution_count": 19,
   "metadata": {},
   "outputs": [
    {
     "name": "stdout",
     "output_type": "stream",
     "text": [
      "tensor([0])\n",
      "\n",
      "=> Scores before training of the tags affected to each word\n",
      "tensor([[-2.6911, -3.3250, -3.0271, -3.2098, -3.1947, -3.3892, -2.9183, -3.3535,\n",
      "         -3.1824, -3.3457, -3.1321, -2.7133, -2.6930, -3.3133, -3.3835, -3.3711,\n",
      "         -2.9236, -2.6939, -2.6650, -2.8308, -3.3591]])\n"
     ]
    }
   ],
   "source": [
    "# See what the scores are before training\n",
    "# Note that element i,j of the output is the score for tag j for word i.\n",
    "# Here we don't need to train, so the code is wrapped in torch.no_grad()\n",
    "with torch.no_grad():\n",
    "    inputs = prepare_sequence(trainSet[0][0], word_to_ix)\n",
    "    print(inputs)\n",
    "    tag_scores = model2(inputs)\n",
    "    print()\n",
    "    print(\"=> Scores before training of the tags affected to each word\")\n",
    "    print(tag_scores)"
   ]
  },
  {
   "cell_type": "code",
   "execution_count": 20,
   "metadata": {},
   "outputs": [
    {
     "name": "stdout",
     "output_type": "stream",
     "text": [
      "Epoch : 0/10\n",
      "\n",
      "Train Loss after this epoch : 9.172121341676657\n",
      "Evaluation Loss after this epoch : 1.1078281019677434\n",
      "Epoch : 1/10\n",
      "\n",
      "Train Loss after this epoch : 5.262649531798914\n",
      "Evaluation Loss after this epoch : 0.965536994251257\n",
      "Epoch : 2/10\n",
      "\n",
      "Train Loss after this epoch : 3.78000620625074\n",
      "Evaluation Loss after this epoch : 1.090249083004227\n",
      "Epoch : 3/10\n",
      "\n",
      "Train Loss after this epoch : 2.974239101921238\n",
      "Evaluation Loss after this epoch : 0.9980494425289403\n",
      "Epoch : 4/10\n",
      "\n",
      "Train Loss after this epoch : 2.2010052786433687\n",
      "Evaluation Loss after this epoch : 1.039895201835145\n",
      "Epoch : 5/10\n",
      "\n",
      "Train Loss after this epoch : 1.8294197718889604\n",
      "Evaluation Loss after this epoch : 1.0813744479300724\n",
      "Epoch : 6/10\n",
      "\n",
      "Train Loss after this epoch : 1.4939100162789436\n",
      "Evaluation Loss after this epoch : 1.180394617663785\n",
      "Epoch : 7/10\n",
      "\n",
      "Train Loss after this epoch : 1.2906010896073228\n",
      "Evaluation Loss after this epoch : 1.2564468010234895\n",
      "Epoch : 8/10\n",
      "\n",
      "Train Loss after this epoch : 1.1662424316430506\n",
      "Evaluation Loss after this epoch : 1.2899925888276826\n",
      "Epoch : 9/10\n",
      "\n",
      "Train Loss after this epoch : 1.171658746592094\n",
      "Evaluation Loss after this epoch : 1.3299488062270193\n"
     ]
    }
   ],
   "source": [
    "loss_train, loss_eval = train(model2, 10)"
   ]
  },
  {
   "cell_type": "code",
   "execution_count": 21,
   "metadata": {},
   "outputs": [
    {
     "data": {
      "image/png": "[encoded data removed]",
      "text/plain": [
       "<Figure size 432x288 with 1 Axes>"
      ]
     },
     "metadata": {
      "needs_background": "light"
     },
     "output_type": "display_data"
    },
    {
     "data": {
      "image/png": "[encoded data removed]",
      "text/plain": [
       "<Figure size 432x288 with 1 Axes>"
      ]
     },
     "metadata": {
      "needs_background": "light"
     },
     "output_type": "display_data"
    }
   ],
   "source": [
    "affiche(loss_eval, loss_train)"
   ]
  }
 ],
 "metadata": {
  "interpreter": {
   "hash": "07efdcd4b820c98a756949507a4d29d7862823915ec7477944641bea022f4f62"
  },
  "kernelspec": {
   "display_name": "Python 3.9.7 ('base')",
   "language": "python",
   "name": "python3"
  },
  "language_info": {
   "codemirror_mode": {
    "name": "ipython",
    "version": 3
   },
   "file_extension": ".py",
   "mimetype": "text/x-python",
   "name": "python",
   "nbconvert_exporter": "python",
   "pygments_lexer": "ipython3",
   "version": "3.9.7"
  },
  "orig_nbformat": 4
 },
 "nbformat": 4,
 "nbformat_minor": 2
}
