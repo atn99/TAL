{
 "cells": [
  {
   "cell_type": "code",
   "execution_count": 3,
   "metadata": {},
   "outputs": [],
   "source": [
    "# Author: Robert Guthrie\n",
    "\n",
    "import torch\n",
    "import torch.nn as nn\n",
    "import torch.nn.functional as F\n",
    "import torch.optim as optim\n",
    "import matplotlib.pyplot as plt\n",
    "import numpy as np\n",
    "\n",
    "# Utiliser Fast Text pour le carractere embedding"
   ]
  },
  {
   "cell_type": "markdown",
   "metadata": {},
   "source": [
    "#1 Prepare data"
   ]
  },
  {
   "cell_type": "code",
   "execution_count": 31,
   "metadata": {},
   "outputs": [],
   "source": [
    "#donne les index de seq et les mets dans un tensor\n",
    "def prepare_sequence(seq, to_ix):\n",
    "    idxs = [to_ix[seq]]\n",
    "    return torch.tensor(idxs, dtype=torch.long)\n",
    "\n",
    "#affiche\n",
    "def affiche(losses_eval, losses_train):\n",
    "    plt.plot(np.arange(0,len(losses_eval)),losses_eval)\n",
    "    plt.title('Evolution loss evaluation set')\n",
    "    plt.xlabel(\"Epochs\")\n",
    "    plt.ylabel(\"Loss\")\n",
    "    plt.show()\n",
    "\n",
    "    plt.plot(np.arange(0,len(losses_train)),losses_train)\n",
    "    plt.title('Evolution loss train set')\n",
    "    plt.xlabel(\"Epochs\")\n",
    "    plt.ylabel(\"Loss\")\n",
    "    plt.show()"
   ]
  },
  {
   "cell_type": "code",
   "execution_count": 5,
   "metadata": {},
   "outputs": [],
   "source": [
    "data_file = open('pos_reference.txt.lima', 'r')\n",
    "data = []\n",
    "word_to_ix = {}\n",
    "tag_to_ix = {}\n",
    "\n",
    "for line in data_file : \n",
    "    # Pour ne pas prendre les lignes vides\n",
    "    if not line.isspace():\n",
    "\n",
    "        # On retire les retours chariots à la fin des lignes + separation du mot et de sa forme morpho-syntaxique dans un tuple\n",
    "        wordAndToken = line.rstrip('\\n').split('\\t')\n",
    "\n",
    "        # Si le mot n'est pas dans le dico on l'ajoute avec son index qui est la taille actuelle du dico\n",
    "        if wordAndToken[0] not in word_to_ix:\n",
    "            word_to_ix[wordAndToken[0]] = len(word_to_ix)\n",
    "\n",
    "        # Pareil pour les tokens\n",
    "        if wordAndToken[1] not in tag_to_ix:\n",
    "            tag_to_ix[wordAndToken[1]] = len(tag_to_ix)\n",
    "\n",
    "        data.append(wordAndToken)"
   ]
  },
  {
   "cell_type": "code",
   "execution_count": 6,
   "metadata": {},
   "outputs": [
    {
     "name": "stdout",
     "output_type": "stream",
     "text": [
      "{'PROPN': 0, 'COMMA': 1, 'ADJ': 2, 'AUX': 3, 'VERB': 4, 'DET': 5, 'NOUN': 6, 'ADP': 7, 'SENT': 8, 'CONJ': 9, 'ADV': 10, 'PART': 11, 'PRON': 12, 'SCONJ': 13, 'COLON': 14, 'OQU': 15, 'QUOT': 16, 'NUM': 17, 'SYM': 18, 'OPAR': 19, 'CPAR': 20}\n"
     ]
    }
   ],
   "source": [
    "print(tag_to_ix)"
   ]
  },
  {
   "cell_type": "code",
   "execution_count": 7,
   "metadata": {},
   "outputs": [],
   "source": [
    "#print(word_to_ix)"
   ]
  },
  {
   "cell_type": "code",
   "execution_count": 8,
   "metadata": {},
   "outputs": [
    {
     "name": "stdout",
     "output_type": "stream",
     "text": [
      "['Pierre Vinken', 'PROPN']\n",
      "[',', 'COMMA']\n",
      "['61 years old', 'ADJ']\n",
      "[',', 'COMMA']\n",
      "['will', 'AUX']\n",
      "['join', 'VERB']\n",
      "['the', 'DET']\n",
      "['board', 'NOUN']\n",
      "['as', 'ADP']\n",
      "['a', 'DET']\n"
     ]
    }
   ],
   "source": [
    "for i in range(10):\n",
    "    print(data[i])"
   ]
  },
  {
   "cell_type": "markdown",
   "metadata": {},
   "source": [
    "Séparation des trains set, test set et eval set"
   ]
  },
  {
   "cell_type": "code",
   "execution_count": 9,
   "metadata": {},
   "outputs": [],
   "source": [
    "nb_line = len(data)\n",
    "line_80 = round((nb_line*80)/100)\n",
    "line_10 = round((nb_line*10)/100)  \n",
    "\n",
    "trainSet = data[:line_80]\n",
    "testSet = data[line_80+1:line_80+line_10]\n",
    "evalSet = data[line_80+line_10+1:]\n",
    "\n"
   ]
  },
  {
   "cell_type": "code",
   "execution_count": 10,
   "metadata": {},
   "outputs": [],
   "source": [
    "################# Create the model #################\n",
    "class LSTMTagger(nn.Module):\n",
    "\n",
    "    def __init__(self, embedding_dim, hidden_dim, vocab_size, tagset_size):\n",
    "        super(LSTMTagger, self).__init__()\n",
    "        self.hidden_dim = hidden_dim\n",
    "\n",
    "        self.word_embeddings = nn.Embedding(vocab_size, embedding_dim)\n",
    "\n",
    "        # The LSTM takes word embeddings as inputs, and outputs hidden states\n",
    "        # with dimensionality hidden_dim.\n",
    "        self.lstm = nn.LSTM(embedding_dim, hidden_dim)\n",
    "\n",
    "        # The linear layer that maps from hidden state space to tag space\n",
    "        self.hidden2tag = nn.Linear(hidden_dim, tagset_size)\n",
    "\n",
    "    def forward(self, sentence):\n",
    "        embeds = self.word_embeddings(sentence)\n",
    "        lstm_out, _ = self.lstm(embeds.view(len(sentence), 1, -1))\n",
    "        tag_space = self.hidden2tag(lstm_out.view(len(sentence), -1))\n",
    "        tag_scores = F.log_softmax(tag_space, dim=1)\n",
    "        return tag_scores\n",
    "\n"
   ]
  },
  {
   "cell_type": "code",
   "execution_count": 11,
   "metadata": {},
   "outputs": [],
   "source": [
    "# These will usually be more like 32 or 64 dimensional.\n",
    "# We will keep them small, so we can see how the weights change as we train.\n",
    "EMBEDDING_DIM = 6\n",
    "HIDDEN_DIM = 6\n",
    "\n",
    "################# Train the model #################\n",
    "model = LSTMTagger(EMBEDDING_DIM, HIDDEN_DIM, len(word_to_ix), len(tag_to_ix))\n",
    "loss_function = nn.NLLLoss()\n",
    "optimizer = optim.SGD(model.parameters(), lr=0.1)"
   ]
  },
  {
   "cell_type": "code",
   "execution_count": 12,
   "metadata": {},
   "outputs": [
    {
     "name": "stdout",
     "output_type": "stream",
     "text": [
      "tensor([0])\n",
      "\n",
      "=> Scores before training of the tags affected to each word\n",
      "tensor([[-3.2064, -2.7891, -2.8434, -3.3965, -3.1087, -2.7724, -2.9695, -2.7634,\n",
      "         -2.8087, -3.5756, -3.6252, -3.4572, -2.9819, -3.4824, -2.9050, -3.4204,\n",
      "         -3.2272, -2.9646, -2.9617, -2.7491, -2.7737]])\n"
     ]
    }
   ],
   "source": [
    "# See what the scores are before training\n",
    "# Note that element i,j of the output is the score for tag j for word i.\n",
    "# Here we don't need to train, so the code is wrapped in torch.no_grad()\n",
    "with torch.no_grad():\n",
    "    inputs = prepare_sequence(trainSet[0][0], word_to_ix)\n",
    "    print(inputs)\n",
    "    tag_scores = model(inputs)\n",
    "    print()\n",
    "    print(\"=> Scores before training of the tags affected to each word\")\n",
    "    print(tag_scores)"
   ]
  },
  {
   "cell_type": "code",
   "execution_count": 33,
   "metadata": {},
   "outputs": [
    {
     "name": "stdout",
     "output_type": "stream",
     "text": [
      "Epoch : 0/300\n",
      "\n",
      "Train Loss after this epoch : 3.351524332939211\n",
      "Train Loss after this epoch : 2.558542058310184\n",
      "Epoch : 1/300\n",
      "\n",
      "Train Loss after this epoch : 3.3299853622665156\n",
      "Train Loss after this epoch : 2.5594656071964503\n",
      "Epoch : 2/300\n",
      "\n",
      "Train Loss after this epoch : 3.292776027698365\n",
      "Train Loss after this epoch : 2.5558993194193587\n",
      "Epoch : 3/300\n",
      "\n",
      "Train Loss after this epoch : 3.3332095148477556\n",
      "Train Loss after this epoch : 2.5372632816444347\n",
      "Epoch : 4/300\n",
      "\n",
      "Train Loss after this epoch : 3.298073907641135\n",
      "Train Loss after this epoch : 2.5565154480420684\n",
      "Epoch : 5/300\n",
      "\n",
      "Train Loss after this epoch : 3.2663768996949876\n",
      "Train Loss after this epoch : 2.5665452108876203\n",
      "Epoch : 6/300\n",
      "\n"
     ]
    }
   ],
   "source": [
    "nb_epoch = 300\n",
    "losses_eval = []\n",
    "losses_train = []\n",
    "\n",
    "\n",
    "f1_valid = []\n",
    "\n",
    "for epoch in range(nb_epoch):  # again, normally you would NOT do 300 epochs, it is toy data\n",
    "    print(\"Epoch : \" + str(epoch) +'/'+ str(nb_epoch) + '\\n')\n",
    "    \n",
    "    #On passe le model en phase d'entrainement\n",
    "    model.train()\n",
    "    for sentence, tags in trainSet:\n",
    "        # Step 1. Remember that Pytorch accumulates gradients.\n",
    "        # We need to clear them out before each instance\n",
    "        model.zero_grad()\n",
    "\n",
    "        # Step 2. Get our inputs ready for the network, that is, turn them into\n",
    "        # Tensors of word indices.\n",
    "        sentence_in_train = prepare_sequence(sentence, word_to_ix)\n",
    "        targets_train = prepare_sequence(tags, tag_to_ix)\n",
    "\n",
    "        # Step 3. Run our forward pass.\n",
    "        tag_scores_train = model(sentence_in_train)\n",
    "\n",
    "        # Step 4. Compute the loss, gradients, and update the parameters by\n",
    "        #  calling optimizer.step()\n",
    "        loss_train = loss_function(tag_scores_train, targets_train)\n",
    "        current_loss += loss_train.item()\n",
    "\n",
    "        loss_train.backward()\n",
    "        optimizer.step()\n",
    "    \n",
    "    mean_train_loss = current_loss/len(evalSet)\n",
    "    losses_train.append(mean_train_loss)\n",
    "    print('Train Loss after this epoch : ' + str(mean_train_loss) )\n",
    "    current_loss = 0.0\n",
    "    \n",
    "    model.zero_grad()\n",
    "\n",
    "    #On passe le model en phase d'evaluation\n",
    "    model.eval() \n",
    "    current_loss = 0.0\n",
    "    i = 0\n",
    "\n",
    "    with torch.no_grad():\n",
    "        for sentence, tags in evalSet:\n",
    "\n",
    "            sentence_in_eval = prepare_sequence(sentence, word_to_ix)\n",
    "            targets_eval = prepare_sequence(tags, tag_to_ix)\n",
    "\n",
    "            tag_scores_eval = model(sentence_in_eval)\n",
    "            \n",
    "            loss_eval = loss_function(tag_scores_eval, targets_eval)\n",
    "            current_loss += loss_eval.item()  \n",
    "            \n",
    "        mean_eval_loss = current_loss/len(evalSet)\n",
    "        losses_eval.append(mean_eval_loss)\n",
    "        print('Train Loss after this epoch : ' + str(mean_eval_loss) )\n",
    "        current_loss = 0.0\n",
    "\n"
   ]
  },
  {
   "cell_type": "code",
   "execution_count": 32,
   "metadata": {},
   "outputs": [
    {
     "data": {
      "image/png": "[encoded data removed]",
      "text/plain": [
       "<Figure size 432x288 with 1 Axes>"
      ]
     },
     "metadata": {
      "needs_background": "light"
     },
     "output_type": "display_data"
    },
    {
     "data": {
      "image/png": "[encoded data removed]",
      "text/plain": [
       "<Figure size 432x288 with 1 Axes>"
      ]
     },
     "metadata": {
      "needs_background": "light"
     },
     "output_type": "display_data"
    }
   ],
   "source": [
    "affiche(losses_eval, losses_train)"
   ]
  },
  {
   "cell_type": "code",
   "execution_count": 23,
   "metadata": {},
   "outputs": [
    {
     "name": "stdout",
     "output_type": "stream",
     "text": [
      "\n",
      "=> The sentence to analyze (first sentence of the Training data):\n",
      "['will', 'AUX']\n",
      "\n",
      "=> Training data: each word is assigned to a unique index:\n",
      "\n",
      "=> Scores after training of the tags affected to each word of the sentence to analyze:\n",
      "tensor([[-19.2129,  -5.4328,  -7.1051,  -2.8564,  -7.7279,  -9.3490, -18.2661,\n",
      "          -3.2206,  -4.9246,  -2.6503,  -2.6695,  -2.5759,  -0.8896,  -1.3630,\n",
      "          -7.6969,  -7.7346, -10.8664, -16.1910,  -9.1793,  -9.8672,  -5.1453]])\n"
     ]
    }
   ],
   "source": [
    "# See what the scores are after training\n",
    "with torch.no_grad():\n",
    "    inputs = prepare_sequence(trainSet[4][0], word_to_ix)\n",
    "    print()\n",
    "    print('=> The sentence to analyze (first sentence of the Training data):')\n",
    "    print(trainSet[4])\n",
    "\n",
    "    print()\n",
    "    print(\"=> Training data: each word is assigned to a unique index:\")\n",
    "    #print(word_to_ix)\n",
    "    tag_scores = model(inputs)\n",
    "\n",
    "    # The sentence is \"the dog ate the apple\".  i,j corresponds to score for tag j\n",
    "    # for word i. The predicted tag is the maximum scoring tag.\n",
    "    # Here, we can see the predicted sequence below is 0 1 2 0 1\n",
    "    # since 0 is index of the maximum value of row 1,\n",
    "    # 1 is the index of maximum value of row 2, etc.\n",
    "    # Which is DET NOUN VERB DET NOUN, the correct sequence!\n",
    "\n",
    "    print()\n",
    "    print(\"=> Scores after training of the tags affected to each word of the sentence to analyze:\")\n",
    "    print(tag_scores)"
   ]
  },
  {
   "cell_type": "code",
   "execution_count": null,
   "metadata": {},
   "outputs": [],
   "source": [
    "#Dans le tensor ci-dessus, le score le plus haut correspond au resultat le plus probable."
   ]
  }
 ],
 "metadata": {
  "interpreter": {
   "hash": "07efdcd4b820c98a756949507a4d29d7862823915ec7477944641bea022f4f62"
  },
  "kernelspec": {
   "display_name": "Python 3.9.7 ('base')",
   "language": "python",
   "name": "python3"
  },
  "language_info": {
   "codemirror_mode": {
    "name": "ipython",
    "version": 3
   },
   "file_extension": ".py",
   "mimetype": "text/x-python",
   "name": "python",
   "nbconvert_exporter": "python",
   "pygments_lexer": "ipython3",
   "version": "3.7.11"
  },
  "orig_nbformat": 4
 },
 "nbformat": 4,
 "nbformat_minor": 2
}
